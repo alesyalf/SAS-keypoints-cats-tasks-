{
 "cells": [
  {
   "cell_type": "markdown",
   "metadata": {},
   "source": [
    "# Домашнее задание 2 - Локализация ключевых точек\n",
    "<br>\n",
    "\n",
    "Задание выполнил(а): Алеся Демешко\n",
    "<br>\n",
    "\n",
    "**Дедлайн:** 17.11.2020 23:59\n",
    "\n",
    "\n",
    "### О задании\n",
    "В этом задании вы познакомитесь с функционалом SAS для реализации сетей локализации ключевых точек, а так же построите и обучите такую сеть самостоятельно.\n",
    "<br>\n",
    "\n",
    "**Задание построено следующим образом:**<br>\n",
    "1) Задание 1: Загрузка данных в CAS - 1 балл<br>\n",
    "2) Задание 2: Соединение таблиц - 3 балла<br>\n",
    "3) Задание 3: Подготовка данных для обучения - 2 балла<br>\n",
    "4) Задание 4: Построение модели - 4 балла<br>\n",
    "5) Задание 5: Обучение модели - 2 балла<br>\n",
    "6) Задание 6: Проверка и визуализация результатов работы сети - 3 балла<br>\n",
    "7) Задание 7 (дополнительное) - до +2 баллов\n",
    "\n",
    "### Формат сдачи\n",
    "\n",
    "После того, как вы выполните домашную работу, поместите jupyter notebook с выполнеными заданиями, а так же все SAS-таблицы с сохраненными моделями в закрытый git-репозиторий на GitHub. Предоставьте доступ к репозиторию аккаунтам GazizovMarat и Ala1s (добавив в свой реппозиторий в качестве коллабораторов).\n",
    "\n",
    "### Важно \n",
    "Для того, чтобы ваши результаты были воспроизводимыми для проверки, указывайте seed при вызове методов, где это возможно. Напоминания об этом так же содержатся в тексте заданий."
   ]
  },
  {
   "cell_type": "code",
   "execution_count": 47,
   "metadata": {},
   "outputs": [],
   "source": [
    "import os\n",
    "import numpy as np\n",
    "import cv2\n",
    "from tqdm import tqdm\n",
    "import matplotlib.pyplot as plt\n",
    "%matplotlib inline\n",
    "\n",
    "from glob import glob\n",
    "from tqdm import tqdm\n",
    "\n",
    "from swat import *\n",
    "from dlpy import Model, Sequential\n",
    "from dlpy.layers import *\n",
    "from dlpy.images import ImageTable\n",
    "from dlpy.splitting import three_way_split"
   ]
  },
  {
   "cell_type": "markdown",
   "metadata": {},
   "source": [
    "**Подключение к серверу CAS**<br>\n",
    "Подключитесь к серверу CAS под своим логином и паролем.<br>\n",
    "Загрузите следующие Action Sets: 'image' и 'deepLearn'.<br>"
   ]
  },
  {
   "cell_type": "code",
   "execution_count": 48,
   "metadata": {},
   "outputs": [
    {
     "name": "stdout",
     "output_type": "stream",
     "text": [
      "NOTE: Added action set 'image'.\n",
      "NOTE: Added action set 'deepLearn'.\n",
      "NOTE: Added action set 'datastep'.\n"
     ]
    },
    {
     "data": {
      "text/html": [
       "<div class=\"cas-results-key\"><b>&#167; actionset</b></div>\n",
       "<div class=\"cas-results-body\">\n",
       "<div>datastep</div>\n",
       "</div>\n",
       "<div class=\"cas-output-area\"></div>\n",
       "<p class=\"cas-results-performance\"><small><span class=\"cas-elapsed\">elapsed 0.000622s</span> &#183; <span class=\"cas-sys\">sys 0.000553s</span> &#183; <span class=\"cas-memory\">mem 0.221MB</span></small></p>"
      ],
      "text/plain": [
       "[actionset]\n",
       "\n",
       " 'datastep'\n",
       "\n",
       "+ Elapsed: 0.000622s, sys: 0.000553s, mem: 0.221mb"
      ]
     },
     "execution_count": 48,
     "metadata": {},
     "output_type": "execute_result"
    }
   ],
   "source": [
    "os.environ['CAS_CLIENT_SSL_CA_LIST'] = r\"/tmp/4fix/trustedcerts.pem\"\n",
    "\n",
    "# Создаем новую сессию CAS:\n",
    "\n",
    "# Ваш код здесь\n",
    "s = CAS('tiger.cs.msu.ru', 5570, username='stdusr19', password='wx6BEbDp')\n",
    "\n",
    "# Загружаем action sets:\n",
    "\n",
    "# Ваш код здесь\n",
    "s.loadactionset('image')\n",
    "s.loadactionset('deepLearn')\n",
    "s.loadactionset('datastep')"
   ]
  },
  {
   "cell_type": "markdown",
   "metadata": {},
   "source": [
    "**Набор данных**<br>\n",
    "Вам предлагается набор данных с фотографиями кошек. Сами фотографии располагаются в папке images. Для каждой фотографии имеется разметка, содержащяя координаты 9 ключевых точек мордочки кошки, точки в разметке представлены через пробел в следующем порядке:\n",
    "- Number of points (default is 9)\n",
    "- Left Eye\n",
    "- Right Eye\n",
    "- Mouth\n",
    "- Left Ear-1\n",
    "- Left Ear-2\n",
    "- Left Ear-3\n",
    "- Right Ear-1\n",
    "- Right Ear-2\n",
    "- Right Ear-3\n",
    "\n",
    "<br>\n",
    "Пример изображения:<br>\n",
    "\n",
    "![cat](cat1.PNG)\n",
    "\n",
    "<br>\n",
    "Первое число - количество точек, оно нам не потребуется.<br>\n",
    "Разметка для каждого изображения находится в отдельном файле, все эти файлы с разметкой содержатся в папке points. Название каждого такого файла совпадает с названием изображения, но имеют расширение '.cat', но не переживайте - это простые текстовые файлы. <br>\n",
    "Пример:<br>\n",
    "Название файла изображения - 00000001_000.jpg <br>\n",
    "Название файла с разметкой - 00000001_000.jpg.cat"
   ]
  },
  {
   "cell_type": "markdown",
   "metadata": {},
   "source": [
    "**Задание 1: Загрузка данных в CAS**<br><br>\n",
    "a) Перед тем, как использовать набор данных, потребуется решить несколько проблем с ним. <br><br>\n",
    "Во-первых, для того чтобы загрузить разметку в CAS потребуется сформировать из них таблицу. Дополните код ниже, чтобы сделать это. <br><br>\n",
    "Заметьте, что одна из строчек кода, уже написанного за вас, помогает отсеивать разметку, в которой не все ключевые точки присутствуют на изображении - в таком случае в разметке присутствуют отрицательные числа. Такие примеры нам не потребуются, поэтому код, сохраняющий разметку для изображений, напишите внутри этого блока if."
   ]
  },
  {
   "cell_type": "code",
   "execution_count": 49,
   "metadata": {},
   "outputs": [],
   "source": [
    "points_data = []\n",
    "a_path = \"/home/stdusr19/SAS-CV-2020-Homework2/cats/points/*.jpg.cat\"\n",
    "for path in glob(a_path):\n",
    "    with open(path,'r') as f:\n",
    "        points = f.read().split(' ')[1:-1]\n",
    "        points = [int(x) for x in points]\n",
    "        if any(x<0 for x in points) == False:\n",
    "            points_data.append(points)"
   ]
  },
  {
   "cell_type": "code",
   "execution_count": 50,
   "metadata": {},
   "outputs": [],
   "source": [
    "labels = ['_filename_0',\n",
    "'left_eye_x','left_eye_y',\n",
    "'right_eye_x','right_eye_y',\n",
    "'mouth_x','mouth_y',\n",
    "'left_ear1_x','left_ear1_y',\n",
    "'left_ear2_x','left_ear2_y',\n",
    "'left_ear3_x','left_ear3_y',\n",
    "'right_ear1_x','right_ear1_y',\n",
    "'right_ear2_x','right_ear2_y',\n",
    "'right_ear3_x','right_ear3_y']"
   ]
  },
  {
   "cell_type": "code",
   "execution_count": 51,
   "metadata": {},
   "outputs": [],
   "source": [
    "data = pd.DataFrame.from_records(points_data)"
   ]
  },
  {
   "cell_type": "code",
   "execution_count": 52,
   "metadata": {},
   "outputs": [
    {
     "data": {
      "text/html": [
       "<div>\n",
       "<style scoped>\n",
       "    .dataframe tbody tr th:only-of-type {\n",
       "        vertical-align: middle;\n",
       "    }\n",
       "\n",
       "    .dataframe tbody tr th {\n",
       "        vertical-align: top;\n",
       "    }\n",
       "\n",
       "    .dataframe thead th {\n",
       "        text-align: right;\n",
       "    }\n",
       "</style>\n",
       "<table border=\"1\" class=\"dataframe\">\n",
       "  <thead>\n",
       "    <tr style=\"text-align: right;\">\n",
       "      <th></th>\n",
       "      <th>0</th>\n",
       "      <th>1</th>\n",
       "      <th>2</th>\n",
       "      <th>3</th>\n",
       "      <th>4</th>\n",
       "      <th>5</th>\n",
       "      <th>6</th>\n",
       "      <th>7</th>\n",
       "      <th>8</th>\n",
       "      <th>9</th>\n",
       "      <th>10</th>\n",
       "      <th>11</th>\n",
       "      <th>12</th>\n",
       "      <th>13</th>\n",
       "      <th>14</th>\n",
       "      <th>15</th>\n",
       "      <th>16</th>\n",
       "      <th>17</th>\n",
       "    </tr>\n",
       "  </thead>\n",
       "  <tbody>\n",
       "    <tr>\n",
       "      <th>0</th>\n",
       "      <td>175</td>\n",
       "      <td>160</td>\n",
       "      <td>239</td>\n",
       "      <td>162</td>\n",
       "      <td>199</td>\n",
       "      <td>199</td>\n",
       "      <td>149</td>\n",
       "      <td>121</td>\n",
       "      <td>137</td>\n",
       "      <td>78</td>\n",
       "      <td>166</td>\n",
       "      <td>93</td>\n",
       "      <td>281</td>\n",
       "      <td>101</td>\n",
       "      <td>312</td>\n",
       "      <td>96</td>\n",
       "      <td>296</td>\n",
       "      <td>133</td>\n",
       "    </tr>\n",
       "    <tr>\n",
       "      <th>1</th>\n",
       "      <td>318</td>\n",
       "      <td>222</td>\n",
       "      <td>340</td>\n",
       "      <td>224</td>\n",
       "      <td>327</td>\n",
       "      <td>238</td>\n",
       "      <td>301</td>\n",
       "      <td>199</td>\n",
       "      <td>304</td>\n",
       "      <td>182</td>\n",
       "      <td>321</td>\n",
       "      <td>196</td>\n",
       "      <td>341</td>\n",
       "      <td>197</td>\n",
       "      <td>359</td>\n",
       "      <td>183</td>\n",
       "      <td>361</td>\n",
       "      <td>203</td>\n",
       "    </tr>\n",
       "    <tr>\n",
       "      <th>2</th>\n",
       "      <td>167</td>\n",
       "      <td>173</td>\n",
       "      <td>242</td>\n",
       "      <td>185</td>\n",
       "      <td>191</td>\n",
       "      <td>247</td>\n",
       "      <td>112</td>\n",
       "      <td>105</td>\n",
       "      <td>118</td>\n",
       "      <td>0</td>\n",
       "      <td>171</td>\n",
       "      <td>74</td>\n",
       "      <td>270</td>\n",
       "      <td>90</td>\n",
       "      <td>353</td>\n",
       "      <td>35</td>\n",
       "      <td>332</td>\n",
       "      <td>147</td>\n",
       "    </tr>\n",
       "    <tr>\n",
       "      <th>3</th>\n",
       "      <td>115</td>\n",
       "      <td>122</td>\n",
       "      <td>179</td>\n",
       "      <td>121</td>\n",
       "      <td>133</td>\n",
       "      <td>169</td>\n",
       "      <td>95</td>\n",
       "      <td>70</td>\n",
       "      <td>93</td>\n",
       "      <td>17</td>\n",
       "      <td>131</td>\n",
       "      <td>46</td>\n",
       "      <td>233</td>\n",
       "      <td>39</td>\n",
       "      <td>281</td>\n",
       "      <td>9</td>\n",
       "      <td>224</td>\n",
       "      <td>69</td>\n",
       "    </tr>\n",
       "    <tr>\n",
       "      <th>4</th>\n",
       "      <td>375</td>\n",
       "      <td>263</td>\n",
       "      <td>436</td>\n",
       "      <td>260</td>\n",
       "      <td>409</td>\n",
       "      <td>296</td>\n",
       "      <td>332</td>\n",
       "      <td>226</td>\n",
       "      <td>319</td>\n",
       "      <td>157</td>\n",
       "      <td>363</td>\n",
       "      <td>186</td>\n",
       "      <td>439</td>\n",
       "      <td>179</td>\n",
       "      <td>472</td>\n",
       "      <td>146</td>\n",
       "      <td>475</td>\n",
       "      <td>215</td>\n",
       "    </tr>\n",
       "    <tr>\n",
       "      <th>...</th>\n",
       "      <td>...</td>\n",
       "      <td>...</td>\n",
       "      <td>...</td>\n",
       "      <td>...</td>\n",
       "      <td>...</td>\n",
       "      <td>...</td>\n",
       "      <td>...</td>\n",
       "      <td>...</td>\n",
       "      <td>...</td>\n",
       "      <td>...</td>\n",
       "      <td>...</td>\n",
       "      <td>...</td>\n",
       "      <td>...</td>\n",
       "      <td>...</td>\n",
       "      <td>...</td>\n",
       "      <td>...</td>\n",
       "      <td>...</td>\n",
       "      <td>...</td>\n",
       "    </tr>\n",
       "    <tr>\n",
       "      <th>9000</th>\n",
       "      <td>311</td>\n",
       "      <td>133</td>\n",
       "      <td>364</td>\n",
       "      <td>136</td>\n",
       "      <td>333</td>\n",
       "      <td>186</td>\n",
       "      <td>286</td>\n",
       "      <td>96</td>\n",
       "      <td>267</td>\n",
       "      <td>45</td>\n",
       "      <td>315</td>\n",
       "      <td>62</td>\n",
       "      <td>377</td>\n",
       "      <td>66</td>\n",
       "      <td>417</td>\n",
       "      <td>49</td>\n",
       "      <td>406</td>\n",
       "      <td>105</td>\n",
       "    </tr>\n",
       "    <tr>\n",
       "      <th>9001</th>\n",
       "      <td>497</td>\n",
       "      <td>322</td>\n",
       "      <td>563</td>\n",
       "      <td>324</td>\n",
       "      <td>551</td>\n",
       "      <td>367</td>\n",
       "      <td>409</td>\n",
       "      <td>300</td>\n",
       "      <td>393</td>\n",
       "      <td>218</td>\n",
       "      <td>450</td>\n",
       "      <td>254</td>\n",
       "      <td>533</td>\n",
       "      <td>258</td>\n",
       "      <td>587</td>\n",
       "      <td>227</td>\n",
       "      <td>581</td>\n",
       "      <td>306</td>\n",
       "    </tr>\n",
       "    <tr>\n",
       "      <th>9002</th>\n",
       "      <td>178</td>\n",
       "      <td>174</td>\n",
       "      <td>213</td>\n",
       "      <td>181</td>\n",
       "      <td>190</td>\n",
       "      <td>204</td>\n",
       "      <td>152</td>\n",
       "      <td>154</td>\n",
       "      <td>160</td>\n",
       "      <td>109</td>\n",
       "      <td>186</td>\n",
       "      <td>141</td>\n",
       "      <td>216</td>\n",
       "      <td>147</td>\n",
       "      <td>253</td>\n",
       "      <td>129</td>\n",
       "      <td>242</td>\n",
       "      <td>173</td>\n",
       "    </tr>\n",
       "    <tr>\n",
       "      <th>9003</th>\n",
       "      <td>256</td>\n",
       "      <td>131</td>\n",
       "      <td>288</td>\n",
       "      <td>131</td>\n",
       "      <td>274</td>\n",
       "      <td>158</td>\n",
       "      <td>246</td>\n",
       "      <td>106</td>\n",
       "      <td>235</td>\n",
       "      <td>83</td>\n",
       "      <td>259</td>\n",
       "      <td>97</td>\n",
       "      <td>290</td>\n",
       "      <td>97</td>\n",
       "      <td>318</td>\n",
       "      <td>80</td>\n",
       "      <td>292</td>\n",
       "      <td>106</td>\n",
       "    </tr>\n",
       "    <tr>\n",
       "      <th>9004</th>\n",
       "      <td>178</td>\n",
       "      <td>333</td>\n",
       "      <td>227</td>\n",
       "      <td>336</td>\n",
       "      <td>200</td>\n",
       "      <td>375</td>\n",
       "      <td>151</td>\n",
       "      <td>300</td>\n",
       "      <td>152</td>\n",
       "      <td>252</td>\n",
       "      <td>185</td>\n",
       "      <td>289</td>\n",
       "      <td>222</td>\n",
       "      <td>291</td>\n",
       "      <td>260</td>\n",
       "      <td>257</td>\n",
       "      <td>253</td>\n",
       "      <td>306</td>\n",
       "    </tr>\n",
       "  </tbody>\n",
       "</table>\n",
       "<p>9005 rows × 18 columns</p>\n",
       "</div>"
      ],
      "text/plain": [
       "        0    1    2    3    4    5    6    7    8    9   10   11   12   13  \\\n",
       "0     175  160  239  162  199  199  149  121  137   78  166   93  281  101   \n",
       "1     318  222  340  224  327  238  301  199  304  182  321  196  341  197   \n",
       "2     167  173  242  185  191  247  112  105  118    0  171   74  270   90   \n",
       "3     115  122  179  121  133  169   95   70   93   17  131   46  233   39   \n",
       "4     375  263  436  260  409  296  332  226  319  157  363  186  439  179   \n",
       "...   ...  ...  ...  ...  ...  ...  ...  ...  ...  ...  ...  ...  ...  ...   \n",
       "9000  311  133  364  136  333  186  286   96  267   45  315   62  377   66   \n",
       "9001  497  322  563  324  551  367  409  300  393  218  450  254  533  258   \n",
       "9002  178  174  213  181  190  204  152  154  160  109  186  141  216  147   \n",
       "9003  256  131  288  131  274  158  246  106  235   83  259   97  290   97   \n",
       "9004  178  333  227  336  200  375  151  300  152  252  185  289  222  291   \n",
       "\n",
       "       14   15   16   17  \n",
       "0     312   96  296  133  \n",
       "1     359  183  361  203  \n",
       "2     353   35  332  147  \n",
       "3     281    9  224   69  \n",
       "4     472  146  475  215  \n",
       "...   ...  ...  ...  ...  \n",
       "9000  417   49  406  105  \n",
       "9001  587  227  581  306  \n",
       "9002  253  129  242  173  \n",
       "9003  318   80  292  106  \n",
       "9004  260  257  253  306  \n",
       "\n",
       "[9005 rows x 18 columns]"
      ]
     },
     "execution_count": 52,
     "metadata": {},
     "output_type": "execute_result"
    }
   ],
   "source": [
    "data"
   ]
  },
  {
   "cell_type": "markdown",
   "metadata": {},
   "source": [
    "b) Также, все координаты ключевых точек указаны в абсолютных коорданатах - соотвественно, если мы изменим размер изображения, координаты ключевых точек придётся пересчитывать. Давайте переведем их в относительные координаты - для этого потребуется поделить координаты по x на ширину изображения, а координаты по y на высоту изображения. Обратите внимание, что все изображения различного размера. Также обратите внимание на тип данных столбцов в dataframe - если тип целочисленный, то посчитанные вами значения будут округляться к нулю или единице, что, конечно же, неверно.  "
   ]
  },
  {
   "cell_type": "code",
   "execution_count": 60,
   "metadata": {},
   "outputs": [],
   "source": [
    "# Ваш код здесь\n",
    "points_data=[]\n",
    "names = []\n",
    "for path in glob(a_path):\n",
    "    with open(path,'r') as f:\n",
    "        points = f.read().split(' ')[1:-1]\n",
    "        points = [int(x) for x in points]\n",
    "        if any(x<0 for x in points) == False:\n",
    "            img_path_list = path.split('points')\n",
    "            img_path_list.insert(1, 'images')\n",
    "            img_path_list[-1] = img_path_list[-1][:-4:]\n",
    "            img_path = \"\".join(img_path_list)\n",
    "            img = cv2.imread(img_path, 0)\n",
    "            height, width = img.shape[0], img.shape[1]\n",
    "            for i in range(len(points)):\n",
    "                if i%2==0:\n",
    "                    points[i]=points[i]*1./width\n",
    "                else:\n",
    "                    points[i]=points[i]*1./height\n",
    "            points_data.append(points)\n",
    "            names.append(img_path_list[-1][1:])"
   ]
  },
  {
   "cell_type": "code",
   "execution_count": 61,
   "metadata": {},
   "outputs": [],
   "source": [
    "data = pd.DataFrame.from_records(points_data, columns=labels[1:])"
   ]
  },
  {
   "cell_type": "code",
   "execution_count": 63,
   "metadata": {},
   "outputs": [],
   "source": [
    "data.insert(loc=0, column='_filename_0', value = names)"
   ]
  },
  {
   "cell_type": "markdown",
   "metadata": {},
   "source": [
    "c) Сохраните набор данных в формате csv, а затем загрузите эту таблицу в CAS с помощью функции upload_file."
   ]
  },
  {
   "cell_type": "code",
   "execution_count": 65,
   "metadata": {},
   "outputs": [
    {
     "name": "stdout",
     "output_type": "stream",
     "text": [
      "NOTE: Cloud Analytic Services made the uploaded file available as table NEW_DATA in caslib CASUSER(stdusr19).\n",
      "NOTE: The table NEW_DATA has been created in caslib CASUSER(stdusr19) from binary data uploaded to Cloud Analytic Services.\n"
     ]
    }
   ],
   "source": [
    "# Ваш код здесь\n",
    "data.to_csv(path_or_buf = 'new_data.csv', index = False)\n",
    "tbl = s.upload_file(\"/home/stdusr19/SAS-CV-2020-Homework2/new_data.csv\")"
   ]
  },
  {
   "cell_type": "markdown",
   "metadata": {},
   "source": [
    "d) Создайте список названий переменных, в которых лежат координаты ключевых точек - он нам понадобится в дальнейшем."
   ]
  },
  {
   "cell_type": "code",
   "execution_count": 66,
   "metadata": {},
   "outputs": [],
   "source": [
    "labels = ['_filename_0',\n",
    "'left_eye_x','left_eye_y',\n",
    "'right_eye_x','right_eye_y',\n",
    "'mouth_x','mouth_y',\n",
    "'left_ear1_x','left_ear1_y',\n",
    "'left_ear2_x','left_ear2_y',\n",
    "'left_ear3_x','left_ear3_y',\n",
    "'right_ear1_x','right_ear1_y',\n",
    "'right_ear2_x','right_ear2_y',\n",
    "'right_ear3_x','right_ear3_y']"
   ]
  },
  {
   "cell_type": "markdown",
   "metadata": {},
   "source": [
    "e) Загрузите изображения из папки images в ImageTable."
   ]
  },
  {
   "cell_type": "code",
   "execution_count": 67,
   "metadata": {},
   "outputs": [],
   "source": [
    "# Ваш код здесь\n",
    "img_path = '/home/stdusr19/SAS-CV-2020-Homework2/cats/images'\n",
    "img = ImageTable.load_files(conn=s, path=img_path)"
   ]
  },
  {
   "cell_type": "markdown",
   "metadata": {},
   "source": [
    "**Задание 2: Соединение таблиц**<br><br>\n",
    "a) Соедините таблицу с изображениями и таблицу с казметкой с помощью action dlJoin. \n",
    "b) Затем с помощью конструктора ImageTable.from_table превратите уже соединенную таблицу в ImageTable для дальнейшей работы с ней."
   ]
  },
  {
   "cell_type": "code",
   "execution_count": 81,
   "metadata": {},
   "outputs": [
    {
     "data": {
      "text/html": [
       "<div class=\"cas-results-key\"><b>&#167; OutputCasTables</b></div>\n",
       "<div class=\"cas-results-body\">\n",
       "<div>\n",
       "<style scoped>\n",
       "    .dataframe tbody tr th:only-of-type {\n",
       "        vertical-align: middle;\n",
       "    }\n",
       "\n",
       "    .dataframe tbody tr th {\n",
       "        vertical-align: top;\n",
       "    }\n",
       "\n",
       "    .dataframe thead th {\n",
       "        text-align: right;\n",
       "    }\n",
       "</style>\n",
       "<table border=\"1\" class=\"dataframe\">\n",
       "  <thead>\n",
       "    <tr style=\"text-align: right;\">\n",
       "      <th title=\"\"></th>\n",
       "      <th title=\"CAS Library\">casLib</th>\n",
       "      <th title=\"Name\">Name</th>\n",
       "      <th title=\"Number of Rows\">Rows</th>\n",
       "      <th title=\"Number of Columns\">Columns</th>\n",
       "      <th title=\"Table\">casTable</th>\n",
       "    </tr>\n",
       "  </thead>\n",
       "  <tbody>\n",
       "    <tr>\n",
       "      <th>0</th>\n",
       "      <td>CASUSER(stdusr19)</td>\n",
       "      <td>merged_table</td>\n",
       "      <td>9005</td>\n",
       "      <td>22</td>\n",
       "      <td>CASTable('merged_table', caslib='CASUSER(stdus...</td>\n",
       "    </tr>\n",
       "  </tbody>\n",
       "</table>\n",
       "</div>\n",
       "</div>\n",
       "<div class=\"cas-output-area\"></div>\n",
       "<p class=\"cas-results-performance\"><small><span class=\"cas-elapsed\">elapsed 3.49s</span> &#183; <span class=\"cas-user\">user 2.88s</span> &#183; <span class=\"cas-sys\">sys 9.66s</span> &#183; <span class=\"cas-memory\">mem 2.32e+03MB</span></small></p>"
      ],
      "text/plain": [
       "[OutputCasTables]\n",
       "\n",
       "               casLib          Name  Rows  Columns  \\\n",
       " 0  CASUSER(stdusr19)  merged_table  9005       22   \n",
       " \n",
       "                                             casTable  \n",
       " 0  CASTable('merged_table', caslib='CASUSER(stdus...  \n",
       "\n",
       "+ Elapsed: 3.49s, user: 2.88s, sys: 9.66s, mem: 2.32e+03mb"
      ]
     },
     "execution_count": 81,
     "metadata": {},
     "output_type": "execute_result"
    }
   ],
   "source": [
    "# a)\n",
    "# Ваш код здесь\n",
    "\n",
    "s.deeplearn.dljoin(annotatedtable=img, table=tbl, \n",
    "                      casout=dict(name='merged_table', replace=True), id='_filename_0')"
   ]
  },
  {
   "cell_type": "code",
   "execution_count": 82,
   "metadata": {},
   "outputs": [
    {
     "data": {
      "text/plain": [
       "CASTable(CASTable({'OutputCasTables':               casLib          Name  Rows  Columns  \\\n",
       "0  CASUSER(stdusr19)  merged_table  9005       22   \n",
       "\n",
       "                                            casTable  \n",
       "0  CASTable('merged_table', caslib='CASUSER(stdus...  }))"
      ]
     },
     "execution_count": 82,
     "metadata": {},
     "output_type": "execute_result"
    }
   ],
   "source": [
    "merged_table"
   ]
  },
  {
   "cell_type": "code",
   "execution_count": 84,
   "metadata": {},
   "outputs": [],
   "source": [
    "# b)\n",
    "# Ваш код здесь\n",
    "a = s.CASTable('merged_table')\n",
    "merged_table = ImageTable.from_table(a)"
   ]
  },
  {
   "cell_type": "markdown",
   "metadata": {},
   "source": [
    "**Задание 3: Подготовка данных для обучения**<br><br>\n",
    "а) Измените размер изображений на 96x96 с помощью функции resize ImageTable.<br>\n",
    "b) Перемешайте данные с помощью функции action shuffle.<br>\n",
    "c) Разделите набор данных на обучающий, валидационный и тестовых с помощью функции three_way_split. Процент данных в валидационном наборе данных - 20%, в тестовом - 20%.<br>"
   ]
  },
  {
   "cell_type": "code",
   "execution_count": 85,
   "metadata": {},
   "outputs": [],
   "source": [
    "# a)\n",
    "# Ваш код здесь\n",
    "merged_table.resize(height=96, width=96, inplace=True)"
   ]
  },
  {
   "cell_type": "code",
   "execution_count": 86,
   "metadata": {},
   "outputs": [
    {
     "data": {
      "text/html": [
       "<div class=\"cas-results-key\"><b>&#167; caslib</b></div>\n",
       "<div class=\"cas-results-body\">\n",
       "<div>CASUSER(stdusr19)</div>\n",
       "</div>\n",
       "<div class=\"cas-results-key\"><hr/><b>&#167; tableName</b></div>\n",
       "<div class=\"cas-results-body\">\n",
       "<div>MERGED_TABLE</div>\n",
       "</div>\n",
       "<div class=\"cas-results-key\"><hr/><b>&#167; casTable</b></div>\n",
       "<div class=\"cas-results-body\">\n",
       "<div>CASTable('MERGED_TABLE', caslib='CASUSER(stdusr19)')</div>\n",
       "</div>\n",
       "<div class=\"cas-output-area\"></div>\n",
       "<p class=\"cas-results-performance\"><small><span class=\"cas-elapsed\">elapsed 0.711s</span> &#183; <span class=\"cas-user\">user 0.103s</span> &#183; <span class=\"cas-sys\">sys 0.954s</span> &#183; <span class=\"cas-memory\">mem 154MB</span></small></p>"
      ],
      "text/plain": [
       "[caslib]\n",
       "\n",
       " 'CASUSER(stdusr19)'\n",
       "\n",
       "[tableName]\n",
       "\n",
       " 'MERGED_TABLE'\n",
       "\n",
       "[casTable]\n",
       "\n",
       " CASTable('MERGED_TABLE', caslib='CASUSER(stdusr19)')\n",
       "\n",
       "+ Elapsed: 0.711s, user: 0.103s, sys: 0.954s, mem: 154mb"
      ]
     },
     "execution_count": 86,
     "metadata": {},
     "output_type": "execute_result"
    }
   ],
   "source": [
    "# b)\n",
    "# Ваш код здесь\n",
    "merged_table.shuffle(casout=dict(name='merged_table', replace=True))"
   ]
  },
  {
   "cell_type": "code",
   "execution_count": 90,
   "metadata": {},
   "outputs": [],
   "source": [
    "# c)\n",
    "# Ваш код здесь\n",
    "train_data, val_data, test_data = three_way_split(merged_table, valid_rate=20, test_rate=20)"
   ]
  },
  {
   "cell_type": "markdown",
   "metadata": {},
   "source": [
    "**Задание 4: Построение модели**<br><br>\n",
    "Постройте модель CNN, схема которой изображена на картинке. Особенности модели не отраженные на рисунке: в слое Conv предшествующем BatchNormalization отсутствуют bias, а в Dense слое присутствует дропаут с вероятностью 0.2. Полученная вами сеть должна показывать Loss Error на тестовом наборе данных более 0.21.\n",
    "![model](kpnetwork.PNG)"
   ]
  },
  {
   "cell_type": "code",
   "execution_count": 91,
   "metadata": {},
   "outputs": [
    {
     "name": "stdout",
     "output_type": "stream",
     "text": [
      "NOTE: Input layer added.\n",
      "NOTE: Convolution layer added.\n",
      "NOTE: Pooling layer added.\n",
      "NOTE: Convolution layer added.\n",
      "NOTE: Batch normalization layer added.\n",
      "NOTE: Fully-connected layer added.\n",
      "NOTE: Keypoints layer added.\n",
      "NOTE: Model compiled successfully.\n"
     ]
    }
   ],
   "source": [
    "model = Sequential(s, model_table='cnn_model')\n",
    "model.add(InputLayer(1,96,96))\n",
    "\n",
    "# Ваш код здесь\n",
    "model.add(Conv2d(72, 4, 4))\n",
    "model.add(Pooling(2, 2))\n",
    "model.add(Conv2d(48, 2, 2))\n",
    "model.add(BN())\n",
    "model.add(Dense(48))\n",
    "\n",
    "model.add(Keypoints(n=18, name='kp1'))"
   ]
  },
  {
   "cell_type": "markdown",
   "metadata": {},
   "source": [
    "**Задание 5: Обучение модели**<br><br>\n",
    "Обучите модель, дополнив код ниже. Формат входных данных в model.fit укажите с помощью параметра data_specs."
   ]
  },
  {
   "cell_type": "code",
   "execution_count": 92,
   "metadata": {},
   "outputs": [
    {
     "ename": "SyntaxError",
     "evalue": "invalid syntax (<ipython-input-92-60742b8bfbf4>, line 5)",
     "output_type": "error",
     "traceback": [
      "\u001b[0;36m  File \u001b[0;32m\"<ipython-input-92-60742b8bfbf4>\"\u001b[0;36m, line \u001b[0;32m5\u001b[0m\n\u001b[0;31m    lr =\u001b[0m\n\u001b[0m         ^\u001b[0m\n\u001b[0;31mSyntaxError\u001b[0m\u001b[0;31m:\u001b[0m invalid syntax\n"
     ]
    }
   ],
   "source": [
    "from dlpy.model import *\n",
    "from dlpy.model import Optimizer\n",
    "\n",
    "#Подберите самостоятельно\n",
    "lr = \n",
    "\n",
    "optimizer = Optimizer(mini_batch_size=12, log_level=2, max_epochs=20, reg_l2=0.0005,\n",
    "                      algorithm=MomentumSolver(clip_grad_max=1000, clip_grad_min=-1000,\n",
    "                                               learning_rate=lr, step_size=30))\n",
    "\n",
    "data_specs = # Ваш код здесь\n",
    "train_history = model.fit( ,# Ваш код здесь\n",
    "                          seed=42)"
   ]
  },
  {
   "cell_type": "markdown",
   "metadata": {},
   "source": [
    "**Задание 6: Проверка и визуализация результатов работы сети**<br><br>\n",
    "a) Получите предсказания на тестовом наборе данных c помощью функции predict.<br>\n",
    "b) Дополните код функции plot_landmarks, предназначенной для визуализации предсказаний модели. С помощью вызова этой функции отоборазите результаты из тестового набора данных."
   ]
  },
  {
   "cell_type": "code",
   "execution_count": null,
   "metadata": {},
   "outputs": [],
   "source": [
    "# a)\n",
    "# Ваш код здесь"
   ]
  },
  {
   "cell_type": "code",
   "execution_count": null,
   "metadata": {},
   "outputs": [],
   "source": [
    "# b)\n",
    "def plot_landmarks(conn, data, targets, image_list=range(4), n_col=2, figsize=None):\n",
    "    import cv2\n",
    "    n_images = len(image_list)\n",
    "    num_obs = min(len(data), n_images)\n",
    "    res_img = conn.fetchimages(table=data, to=num_obs).Images\n",
    "    res_label = conn.fetch(data, fetchvars=targets, to=num_obs).Fetch\n",
    "\n",
    "    if n_images > n_col:\n",
    "        n_row = n_images // n_col + 1\n",
    "    else:\n",
    "        n_row = 1\n",
    "        n_col = n_images\n",
    "\n",
    "    if figsize is None:\n",
    "        figsize = (16, 16 // n_col * n_row)\n",
    "\n",
    "    fig = plt.figure(figsize=figsize)\n",
    "\n",
    "    idx_img = 1\n",
    "    for i in image_list:\n",
    "        # Ваш код здесь\n",
    "    plt.show()"
   ]
  },
  {
   "cell_type": "code",
   "execution_count": null,
   "metadata": {},
   "outputs": [],
   "source": [
    "plot_landmarks(#Ваш код здесь"
   ]
  },
  {
   "cell_type": "markdown",
   "metadata": {},
   "source": [
    "**Задание 7 (дополнительное):**<br><br>\n",
    "Перепишите функцию plot_landmarks так, чтобы различные ключевые точки отображались различными цветами. То есть, например, точка левого глаза всегда была синей, правого - зеленой и т.д."
   ]
  },
  {
   "cell_type": "code",
   "execution_count": null,
   "metadata": {},
   "outputs": [],
   "source": [
    "#Ваш код здесь"
   ]
  }
 ],
 "metadata": {
  "kernelspec": {
   "display_name": "Python 3",
   "language": "python",
   "name": "python3"
  },
  "language_info": {
   "codemirror_mode": {
    "name": "ipython",
    "version": 3
   },
   "file_extension": ".py",
   "mimetype": "text/x-python",
   "name": "python",
   "nbconvert_exporter": "python",
   "pygments_lexer": "ipython3",
   "version": "3.7.6"
  }
 },
 "nbformat": 4,
 "nbformat_minor": 4
}
